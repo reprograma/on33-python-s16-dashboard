{
 "cells": [
  {
   "cell_type": "code",
   "execution_count": null,
   "metadata": {},
   "outputs": [],
   "source": []
  },
  {
   "cell_type": "code",
   "execution_count": 30,
   "metadata": {},
   "outputs": [],
   "source": [
    "import pandas as pd\n",
    "import matplotlib.pyplot as plt\n",
    "import seaborn as sns"
   ]
  },
  {
   "cell_type": "code",
   "execution_count": 9,
   "metadata": {},
   "outputs": [],
   "source": [
    "# Identidade de Gênero\n",
    "data_genero = {\n",
    "    'Identidade de Gênero': ['Homem transexual', 'Mulher transexual', 'Travesti', 'Total'],\n",
    "    'Percentual (%)': [34.7, 36.7, 28.6, 100.0]\n",
    "}\n",
    "\n",
    "df_genero = pd.DataFrame(data_genero)\n",
    "\n",
    "# Faixa etária dos entrevistados\n",
    "data_faixa_etaria = {\n",
    "    'Faixa Etária': ['15 a 19 anos', '20 a 24 anos', '25 a 29 anos', '30 a 39 anos', \n",
    "                     '40 a 49 anos', '50 a 59 anos', '60 a 69 anos', 'Total'],\n",
    "    'Percentual (%)': [15.6, 27.9, 24.5, 18.4, 7.5, 5.4, 0.7, 100.0]\n",
    "}\n",
    "\n",
    "df_faixa_etaria = pd.DataFrame(data_faixa_etaria)\n",
    "\n",
    "# Orientação Sexual\n",
    "data_orientacao_sexual = {\n",
    "    'Orientação Sexual': ['Heterossexual', 'Bissexual', 'Homossexual', 'Pansexual', 'Demissexual', \n",
    "                          'Polissexual', 'Não sabe', 'Não respondeu'],\n",
    "    'Percentual (%)': [71.4, 11.6, 9.5, 3.4, 0.7, 0.7, 2.0, 0.7]\n",
    "}\n",
    "\n",
    "df_orientacao_sexual = pd.DataFrame(data_orientacao_sexual)\n",
    "\n",
    "# Correção de Nome e Gênero no Registro Civil\n",
    "data_correcao_registro = {\n",
    "    'Situação': ['Não fez o pedido de correção em registro civil', 'Aguardando julgamento', \n",
    "                 'Não conhece o processo de alteração em registro civil', 'Sim, de nome e gênero', \n",
    "                 'Sim, de nome', 'Não, julgamento indeferido', 'Total'],\n",
    "    'Percentual (%)': [67.3, 12.9, 8.8, 7.5, 2.0, 1.4, 100.0]\n",
    "}\n",
    "\n",
    "df_correcao_registro = pd.DataFrame(data_correcao_registro)\n",
    "\n",
    "# Idade que se percebeu pessoa Trans\n",
    "data_idade_percepcao_trans = {\n",
    "    'Faixa Etária': ['0 a 4 anos', '5 a 9 anos', '10 a 14 anos', '15 a 19 anos', \n",
    "                     '20 a 24 anos', '25 a 29 anos', '30 a 34 anos', '35 a 39 anos', 'Mais de 40 anos', 'Total'],\n",
    "    'Percentual (%)': [4.8, 15.1, 24.0, 34.2, 13.0, 5.5, 2.1, 0.7, 0.7, 100.0]\n",
    "}\n",
    "\n",
    "df_idade_percepcao_trans = pd.DataFrame(data_idade_percepcao_trans)\n"
   ]
  },
  {
   "cell_type": "code",
   "execution_count": 19,
   "metadata": {},
   "outputs": [
    {
     "name": "stdout",
     "output_type": "stream",
     "text": [
      "DataFrame - Identidade de Gênero:\n",
      "  Identidade de Gênero  Percentual (%)\n",
      "0     Homem transexual            34.7\n",
      "1    Mulher transexual            36.7\n",
      "2             Travesti            28.6\n",
      "3                Total           100.0\n",
      "\n",
      "DataFrame - Faixa Etária dos Entrevistados:\n",
      "   Faixa Etária  Percentual (%)\n",
      "0  15 a 19 anos            15.6\n",
      "1  20 a 24 anos            27.9\n",
      "2  25 a 29 anos            24.5\n",
      "3  30 a 39 anos            18.4\n",
      "4  40 a 49 anos             7.5\n",
      "5  50 a 59 anos             5.4\n",
      "6  60 a 69 anos             0.7\n",
      "7         Total           100.0\n",
      "DataFrame - Orientação Sexual:\n",
      "  Orientação Sexual  Percentual (%)\n",
      "0     Heterossexual            71.4\n",
      "1         Bissexual            11.6\n",
      "2       Homossexual             9.5\n",
      "3         Pansexual             3.4\n",
      "4       Demissexual             0.7\n",
      "5       Polissexual             0.7\n",
      "6          Não sabe             2.0\n",
      "7     Não respondeu             0.7\n"
     ]
    }
   ],
   "source": [
    "# Exibindo os DataFrames\n",
    "print(\"DataFrame - Identidade de Gênero:\")\n",
    "print(df_genero)\n",
    "\n",
    "print(\"\\nDataFrame - Faixa Etária dos Entrevistados:\")\n",
    "print(df_faixa_etaria)\n",
    "\n",
    "print(\"DataFrame - Orientação Sexual:\")\n",
    "print(df_orientacao_sexual)\n"
   ]
  },
  {
   "cell_type": "code",
   "execution_count": 17,
   "metadata": {},
   "outputs": [
    {
     "name": "stdout",
     "output_type": "stream",
     "text": [
      "\n",
      "DataFrame - Correção de Nome e Gênero no Registro Civil:\n",
      "                                            Situação  Percentual (%)\n",
      "0     Não fez o pedido de correção em registro civil            67.3\n",
      "1                              Aguardando julgamento            12.9\n",
      "2  Não conhece o processo de alteração em registr...             8.8\n",
      "3                              Sim, de nome e gênero             7.5\n",
      "4                                       Sim, de nome             2.0\n",
      "5                         Não, julgamento indeferido             1.4\n",
      "6                                              Total           100.0\n",
      "\n",
      "DataFrame - Idade que se Percebeu Pessoa Trans:\n",
      "      Faixa Etária  Percentual (%)\n",
      "0       0 a 4 anos             4.8\n",
      "1       5 a 9 anos            15.1\n",
      "2     10 a 14 anos            24.0\n",
      "3     15 a 19 anos            34.2\n",
      "4     20 a 24 anos            13.0\n",
      "5     25 a 29 anos             5.5\n",
      "6     30 a 34 anos             2.1\n",
      "7     35 a 39 anos             0.7\n",
      "8  Mais de 40 anos             0.7\n",
      "9            Total           100.0\n"
     ]
    }
   ],
   "source": [
    "print(\"\\nDataFrame - Correção de Nome e Gênero no Registro Civil:\")\n",
    "print(df_correcao_registro)\n",
    "\n",
    "print(\"\\nDataFrame - Idade que se Percebeu Pessoa Trans:\")\n",
    "print(df_idade_percepcao_trans)"
   ]
  },
  {
   "cell_type": "code",
   "execution_count": 20,
   "metadata": {},
   "outputs": [],
   "source": [
    "# Faixa Etária que Interrompeu os Estudos\n",
    "data_interrupcao_estudos = {\n",
    "    'Faixa Etária': ['10 a 14 anos', '15 a 17 anos', '18 a 24 anos', 'Mais de 24 anos', 'Não sabe', 'Não respondeu', 'Total'],\n",
    "    'Percentual (%)': [6, 34, 32, 25, 2, 1, 100]\n",
    "}\n",
    "\n",
    "df_interrupcao_estudos = pd.DataFrame(data_interrupcao_estudos)\n",
    "\n",
    "# Abandono Escolar\n",
    "data_abandono_escolar = {\n",
    "    'Resposta': ['Sim', 'Não', 'Não respondeu', 'Total'],\n",
    "    'Frequência': [81, 64, 1, 146],\n",
    "    'Percentual (%)': [55.5, 43.8, 0.7, None]\n",
    "}\n",
    "\n",
    "df_abandono_escolar = pd.DataFrame(data_abandono_escolar)\n",
    "\n",
    "# Motivo do Abandono Escolar\n",
    "data_motivo_abandono = {\n",
    "    'Motivo': ['Outras', 'Suspensão ou advertência da escola', 'Não ter vaga na escola pública', \n",
    "               'Influência dos amigos/indisciplina', 'Envolvimento com drogas', 'Escola era longe de casa', \n",
    "               'Mudou de cidade ou estado', 'Conflitos no espaço escolar', 'Problemas familiares', \n",
    "               'Problemas de saúde/acidente', 'Falta de apoio da família', 'Precisava trabalhar', \n",
    "               'Falta de interesse em estudar', 'Sofreu preconceito/agressão na escola'],\n",
    "    'Percentual (%)': [2.0, 1.0, 1.0, 2.0, 2.0, 2.0, 3.0, 4.0, 4.0, 5.1, 5.1, 18.2, 19.2, 31.3]\n",
    "}\n",
    "\n",
    "df_motivo_abandono = pd.DataFrame(data_motivo_abandono)\n",
    "\n",
    "# Preconceito ou Agressão na Escola\n",
    "data_preconceito_escolar = {\n",
    "    'Resposta': ['Sim', 'Não', 'Total'],\n",
    "    'Frequência': [92, 54, 146],\n",
    "    'Percentual (%)': [63.0, 37.0, None]\n",
    "}\n",
    "\n",
    "df_preconceito_escolar = pd.DataFrame(data_preconceito_escolar)\n",
    "\n",
    "# Melhorias nas Escolas\n",
    "data_melhorias_escola = {\n",
    "    'Melhoria': ['Outras', 'Gestão Participativa', 'Valorização dos Professores', \n",
    "                 'Uso do banheiro e nome social', 'Formação sobre gênero e sexualidade', \n",
    "                 'Ampliação de investimentos', 'Inclusão da discussão sobre direitos humanos', \n",
    "                 'Melhoria do ensino e currículo', 'Mais respeito à orientação sexual e identidade de gênero'],\n",
    "    'Frequência': [43, 5, 6, 16, 34, 35, 45, 51, 61],\n",
    "    'Total de Respostas': [296] * 9\n",
    "}\n",
    "\n",
    "df_melhorias_escola = pd.DataFrame(data_melhorias_escola)"
   ]
  },
  {
   "cell_type": "code",
   "execution_count": 21,
   "metadata": {},
   "outputs": [
    {
     "name": "stdout",
     "output_type": "stream",
     "text": [
      "\n",
      "DataFrame - Faixa Etária que Interrompeu os Estudos:\n",
      "      Faixa Etária  Percentual (%)\n",
      "0     10 a 14 anos               6\n",
      "1     15 a 17 anos              34\n",
      "2     18 a 24 anos              32\n",
      "3  Mais de 24 anos              25\n",
      "4         Não sabe               2\n",
      "5    Não respondeu               1\n",
      "6            Total             100\n",
      "DataFrame - Abandono Escolar:\n",
      "        Resposta  Frequência  Percentual (%)\n",
      "0            Sim          81            55.5\n",
      "1            Não          64            43.8\n",
      "2  Não respondeu           1             0.7\n",
      "3          Total         146             NaN\n",
      "\n",
      "DataFrame - Motivo do Abandono Escolar:\n",
      "                                   Motivo  Percentual (%)\n",
      "0                                  Outras             2.0\n",
      "1      Suspensão ou advertência da escola             1.0\n",
      "2          Não ter vaga na escola pública             1.0\n",
      "3      Influência dos amigos/indisciplina             2.0\n",
      "4                 Envolvimento com drogas             2.0\n",
      "5                Escola era longe de casa             2.0\n",
      "6               Mudou de cidade ou estado             3.0\n",
      "7             Conflitos no espaço escolar             4.0\n",
      "8                    Problemas familiares             4.0\n",
      "9             Problemas de saúde/acidente             5.1\n",
      "10              Falta de apoio da família             5.1\n",
      "11                    Precisava trabalhar            18.2\n",
      "12          Falta de interesse em estudar            19.2\n",
      "13  Sofreu preconceito/agressão na escola            31.3\n"
     ]
    }
   ],
   "source": [
    "print(\"\\nDataFrame - Faixa Etária que Interrompeu os Estudos:\")\n",
    "print(df_interrupcao_estudos)\n",
    "\n",
    "print(\"DataFrame - Abandono Escolar:\")\n",
    "print(df_abandono_escolar)\n",
    "\n",
    "print(\"\\nDataFrame - Motivo do Abandono Escolar:\")\n",
    "print(df_motivo_abandono)"
   ]
  },
  {
   "cell_type": "code",
   "execution_count": 22,
   "metadata": {},
   "outputs": [
    {
     "name": "stdout",
     "output_type": "stream",
     "text": [
      "\n",
      "DataFrame - Preconceito ou Agressão na Escola:\n",
      "  Resposta  Frequência  Percentual (%)\n",
      "0      Sim          92            63.0\n",
      "1      Não          54            37.0\n",
      "2    Total         146             NaN\n",
      "\n",
      "DataFrame - Melhorias nas Escolas:\n",
      "                                            Melhoria  Frequência  \\\n",
      "0                                             Outras          43   \n",
      "1                               Gestão Participativa           5   \n",
      "2                        Valorização dos Professores           6   \n",
      "3                      Uso do banheiro e nome social          16   \n",
      "4                Formação sobre gênero e sexualidade          34   \n",
      "5                         Ampliação de investimentos          35   \n",
      "6       Inclusão da discussão sobre direitos humanos          45   \n",
      "7                     Melhoria do ensino e currículo          51   \n",
      "8  Mais respeito à orientação sexual e identidade...          61   \n",
      "\n",
      "   Total de Respostas  \n",
      "0                 296  \n",
      "1                 296  \n",
      "2                 296  \n",
      "3                 296  \n",
      "4                 296  \n",
      "5                 296  \n",
      "6                 296  \n",
      "7                 296  \n",
      "8                 296  \n"
     ]
    }
   ],
   "source": [
    "print(\"\\nDataFrame - Preconceito ou Agressão na Escola:\")\n",
    "print(df_preconceito_escolar)\n",
    "\n",
    "print(\"\\nDataFrame - Melhorias nas Escolas:\")\n",
    "print(df_melhorias_escola)"
   ]
  },
  {
   "cell_type": "code",
   "execution_count": 24,
   "metadata": {},
   "outputs": [],
   "source": [
    "# Preconceito na Família\n",
    "data_preconceito_familia = {\n",
    "    'Resposta': ['Sim', 'Não', 'Não sabe', 'Total'],\n",
    "    'Frequência': [93, 53, 1, 147],\n",
    "    'Percentual (%)': [63.3, 36.1, 0.7, 100.0]\n",
    "}\n",
    "\n",
    "df_preconceito_familia = pd.DataFrame(data_preconceito_familia)\n",
    "\n",
    "# Violência na Família\n",
    "data_violencia_familia = {\n",
    "    'Resposta': ['Sim', 'Não', 'Total'],\n",
    "    'Frequência': [64, 83, 147],\n",
    "    'Percentual (%)': [43.5, 56.5, 100.0]\n",
    "}\n",
    "\n",
    "df_violencia_familia = pd.DataFrame(data_violencia_familia)\n",
    "\n",
    "# Tipos de Violência na Família\n",
    "data_tipos_violencia = {\n",
    "    'Tipo de Violência': ['Violência Psicológica/Verbal', 'Violência Física', 'Violência Sexual'],\n",
    "    'Total de Respostas': [38, 36, 10],\n",
    "    'Percentual (%)': [45.2, 42.9, 11.9]\n",
    "}\n",
    "\n",
    "df_tipos_violencia = pd.DataFrame(data_tipos_violencia)"
   ]
  },
  {
   "cell_type": "code",
   "execution_count": 23,
   "metadata": {},
   "outputs": [
    {
     "name": "stdout",
     "output_type": "stream",
     "text": [
      "\n",
      "DataFrame - Preconceito na Família:\n",
      "   Resposta  Frequência  Percentual (%)\n",
      "0       Sim          93            63.3\n",
      "1       Não          53            36.1\n",
      "2  Não sabe           1             0.7\n",
      "3     Total         147           100.0\n",
      "\n",
      "DataFrame - Violência na Família:\n",
      "  Resposta  Frequência  Percentual (%)\n",
      "0      Sim          64            43.5\n",
      "1      Não          83            56.5\n",
      "2    Total         147           100.0\n",
      "\n",
      "DataFrame - Tipos de Violência na Família:\n",
      "              Tipo de Violência  Total de Respostas  Percentual (%)\n",
      "0  Violência Psicológica/Verbal                  38            45.2\n",
      "1              Violência Física                  36            42.9\n",
      "2              Violência Sexual                  10            11.9\n"
     ]
    }
   ],
   "source": [
    "print(\"\\nDataFrame - Preconceito na Família:\")\n",
    "print(df_preconceito_familia)\n",
    "\n",
    "print(\"\\nDataFrame - Violência na Família:\")\n",
    "print(df_violencia_familia)\n",
    "\n",
    "print(\"\\nDataFrame - Tipos de Violência na Família:\")\n",
    "print(df_tipos_violencia)"
   ]
  },
  {
   "cell_type": "code",
   "execution_count": 25,
   "metadata": {},
   "outputs": [],
   "source": [
    "# Atividades ou Trabalho Remunerado\n",
    "data_atividades_trabalho = {\n",
    "    'Atividade Principal': ['Outros', 'Profissional da saúde', 'Pesquisador(a)', 'Marketing/Publicidade', \n",
    "                            'Envolvimento em atividades ilícitas (Tráfico de drogas)', 'Servidor(a) Público(a)', \n",
    "                            'Cuidador(a)', 'Agente de prevenção/educador(a) social', 'Profissional de administração', \n",
    "                            'Artista', 'Professor(a)/instrutor(a)', 'Profissional de comércio e vendas', \n",
    "                            'Profissional de Culinária/Gastronomia', 'Profissional de estética e beleza', \n",
    "                            'Profissional do sexo/Acompanhante'],\n",
    "    'Percentual (%)': [8.8, 2.0, 2.0, 2.0, 2.0, 2.9, 2.9, 2.9, 3.9, 3.9, 4.9, 6.9, 8.8, 17.6, 28.4]\n",
    "}\n",
    "\n",
    "df_atividades_trabalho = pd.DataFrame(data_atividades_trabalho)\n",
    "\n",
    "# Preconceito no Trabalho\n",
    "data_preconceito_trabalho = {\n",
    "    'Resposta': ['Sim', 'Não', 'Não sabe', 'Não respondeu', 'Total'],\n",
    "    'Frequência': [57, 87, 1, 1, 146],\n",
    "    'Percentual (%)': [39.0, 59.6, 0.7, 0.7, 100.0]\n",
    "}\n",
    "\n",
    "df_preconceito_trabalho = pd.DataFrame(data_preconceito_trabalho)\n",
    "\n",
    "# Idade de Início como Profissional do Sexo\n",
    "data_idade_profissional_sexo = {\n",
    "    'Idade': [12, 13, 14, 15, 16, 17, 18, 19, 20, 22, 24, 25, 28, 29, 32, 34],\n",
    "    'Percentual (%)': [4.0, 4.0, 8.0, 18.0, 14.0, 14.0, 6.0, 8.0, 8.0, 2.0, 2.0, 4.0, 2.0, 2.0, 2.0, 2.0]\n",
    "}\n",
    "\n",
    "df_idade_profissional_sexo = pd.DataFrame(data_idade_profissional_sexo)"
   ]
  },
  {
   "cell_type": "code",
   "execution_count": 26,
   "metadata": {},
   "outputs": [
    {
     "name": "stdout",
     "output_type": "stream",
     "text": [
      "DataFrame - Atividades ou Trabalho Remunerado:\n",
      "                                  Atividade Principal  Percentual (%)\n",
      "0                                              Outros             8.8\n",
      "1                               Profissional da saúde             2.0\n",
      "2                                      Pesquisador(a)             2.0\n",
      "3                               Marketing/Publicidade             2.0\n",
      "4   Envolvimento em atividades ilícitas (Tráfico d...             2.0\n",
      "5                              Servidor(a) Público(a)             2.9\n",
      "6                                         Cuidador(a)             2.9\n",
      "7              Agente de prevenção/educador(a) social             2.9\n",
      "8                       Profissional de administração             3.9\n",
      "9                                             Artista             3.9\n",
      "10                          Professor(a)/instrutor(a)             4.9\n",
      "11                  Profissional de comércio e vendas             6.9\n",
      "12              Profissional de Culinária/Gastronomia             8.8\n",
      "13                  Profissional de estética e beleza            17.6\n",
      "14                  Profissional do sexo/Acompanhante            28.4\n",
      "\n",
      "DataFrame - Preconceito no Trabalho:\n",
      "        Resposta  Frequência  Percentual (%)\n",
      "0            Sim          57            39.0\n",
      "1            Não          87            59.6\n",
      "2       Não sabe           1             0.7\n",
      "3  Não respondeu           1             0.7\n",
      "4          Total         146           100.0\n",
      "\n",
      "DataFrame - Idade de Início como Profissional do Sexo:\n",
      "    Idade  Percentual (%)\n",
      "0      12             4.0\n",
      "1      13             4.0\n",
      "2      14             8.0\n",
      "3      15            18.0\n",
      "4      16            14.0\n",
      "5      17            14.0\n",
      "6      18             6.0\n",
      "7      19             8.0\n",
      "8      20             8.0\n",
      "9      22             2.0\n",
      "10     24             2.0\n",
      "11     25             4.0\n",
      "12     28             2.0\n",
      "13     29             2.0\n",
      "14     32             2.0\n",
      "15     34             2.0\n"
     ]
    }
   ],
   "source": [
    "print(\"DataFrame - Atividades ou Trabalho Remunerado:\")\n",
    "print(df_atividades_trabalho)\n",
    "\n",
    "print(\"\\nDataFrame - Preconceito no Trabalho:\")\n",
    "print(df_preconceito_trabalho)\n",
    "\n",
    "print(\"\\nDataFrame - Idade de Início como Profissional do Sexo:\")\n",
    "print(df_idade_profissional_sexo)"
   ]
  },
  {
   "cell_type": "code",
   "execution_count": 27,
   "metadata": {},
   "outputs": [],
   "source": [
    "# Respeito ao Nome Social e Identidade de Gênero nos Serviços de Saúde\n",
    "data_respeito_saude = {\n",
    "    'Resposta': ['Sim', 'Não', 'Não sabe', 'Não respondeu', 'Total'],\n",
    "    'Percentual (%)': [59.1, 34.1, 5.3, 1.5, 100.0]\n",
    "}\n",
    "\n",
    "df_respeito_saude = pd.DataFrame(data_respeito_saude)\n",
    "\n",
    "# Etapas onde não houve Respeito\n",
    "data_etapas_nao_respeitadas = {\n",
    "    'Etapa': ['Não respondeu', 'No plano de saúde', 'Triagem/Chamada', 'Consulta', 'Em todas as etapas', 'Acolhimento/cadastro'],\n",
    "    'Percentual (%)': [3.2, 3.2, 9.7, 19.4, 24.2, 40.3]\n",
    "}\n",
    "\n",
    "df_etapas_nao_respeitadas = pd.DataFrame(data_etapas_nao_respeitadas)\n",
    "\n",
    "# Idade do Primeiro Uso de Hormônios\n",
    "data_primeiro_uso_hormonios = {\n",
    "    'Idade': ['10 a 14 anos', '15 a 19 anos', '20 a 24 anos', '25 a 29 anos', '30 a 34 anos', 'Mais de 35 anos'],\n",
    "    'Percentual (%)': [18.3, 47.8, 22.6, 7.8, 2.6, 0.9]\n",
    "}\n",
    "\n",
    "df_primeiro_uso_hormonios = pd.DataFrame(data_primeiro_uso_hormonios)\n",
    "\n",
    "# Acompanhamento Médico para Hormonioterapia\n",
    "data_acompanhamento_hormonioterapia = {\n",
    "    'Resposta': ['Sim', 'Não', 'Total'],\n",
    "    'Frequência': [26, 89, 115],\n",
    "    'Percentual (%)': [22.6, 77.4, 100.0]\n",
    "}\n",
    "\n",
    "df_acompanhamento_hormonioterapia = pd.DataFrame(data_acompanhamento_hormonioterapia)\n",
    "\n",
    "# Tentativa de Suicídio\n",
    "data_tentativa_suicidio = {\n",
    "    'Resposta': ['Sim', 'Não', 'Não respondeu', 'Total'],\n",
    "    'Frequência': [44, 39, 1, 84],\n",
    "    'Percentual (%)': [52.4, 46.4, 1.2, 100.0]\n",
    "}\n",
    "\n",
    "df_tentativa_suicidio = pd.DataFrame(data_tentativa_suicidio)\n",
    "\n",
    "# Melhoria dos Serviços de Atendimento à Saúde\n",
    "data_melhoria_atendimento_saude = {\n",
    "    'Medidas Importantes': ['Outros', 'Orientação e informação à população trans', 'Disponibilizar medicação e liberar cirurgias', \n",
    "                            'Maior agilidade e eficiência', 'Melhoria do atendimento', 'Ampliação dos profissionais de saúde', \n",
    "                            'Capacitação dos profissionais de saúde para atendimento às pessoas trans', 'Respeito/serviço mais humanizado', \n",
    "                            'Ampliação e melhoria em infra estrutura e serviços'],\n",
    "    'Percentual (%)': [3.8, 3.1, 4.8, 10.0, 10.3, 12.4, 15.9, 17.6, 22.1]\n",
    "}\n",
    "\n",
    "df_melhoria_atendimento_saude = pd.DataFrame(data_melhoria_atendimento_saude)"
   ]
  },
  {
   "cell_type": "code",
   "execution_count": 28,
   "metadata": {},
   "outputs": [
    {
     "name": "stdout",
     "output_type": "stream",
     "text": [
      "\n",
      "DataFrame - Respeito ao Nome Social e Identidade de Gênero nos Serviços de Saúde:\n",
      "        Resposta  Percentual (%)\n",
      "0            Sim            59.1\n",
      "1            Não            34.1\n",
      "2       Não sabe             5.3\n",
      "3  Não respondeu             1.5\n",
      "4          Total           100.0\n",
      "\n",
      "DataFrame - Etapas onde não houve Respeito:\n",
      "                  Etapa  Percentual (%)\n",
      "0         Não respondeu             3.2\n",
      "1     No plano de saúde             3.2\n",
      "2       Triagem/Chamada             9.7\n",
      "3              Consulta            19.4\n",
      "4    Em todas as etapas            24.2\n",
      "5  Acolhimento/cadastro            40.3\n",
      "DataFrame - Idade do Primeiro Uso de Hormônios:\n",
      "             Idade  Percentual (%)\n",
      "0     10 a 14 anos            18.3\n",
      "1     15 a 19 anos            47.8\n",
      "2     20 a 24 anos            22.6\n",
      "3     25 a 29 anos             7.8\n",
      "4     30 a 34 anos             2.6\n",
      "5  Mais de 35 anos             0.9\n"
     ]
    }
   ],
   "source": [
    "print(\"\\nDataFrame - Respeito ao Nome Social e Identidade de Gênero nos Serviços de Saúde:\")\n",
    "print(df_respeito_saude)\n",
    "\n",
    "print(\"\\nDataFrame - Etapas onde não houve Respeito:\")\n",
    "print(df_etapas_nao_respeitadas)\n",
    "\n",
    "print(\"DataFrame - Idade do Primeiro Uso de Hormônios:\")\n",
    "print(df_primeiro_uso_hormonios)"
   ]
  },
  {
   "cell_type": "code",
   "execution_count": 29,
   "metadata": {},
   "outputs": [
    {
     "name": "stdout",
     "output_type": "stream",
     "text": [
      "\n",
      "DataFrame - Acompanhamento Médico para Hormonioterapia:\n",
      "  Resposta  Frequência  Percentual (%)\n",
      "0      Sim          26            22.6\n",
      "1      Não          89            77.4\n",
      "2    Total         115           100.0\n",
      "\n",
      "DataFrame - Tentativa de Suicídio:\n",
      "        Resposta  Frequência  Percentual (%)\n",
      "0            Sim          44            52.4\n",
      "1            Não          39            46.4\n",
      "2  Não respondeu           1             1.2\n",
      "3          Total          84           100.0\n",
      "\n",
      "DataFrame - Melhoria dos Serviços de Atendimento à Saúde:\n",
      "                                 Medidas Importantes  Percentual (%)\n",
      "0                                             Outros             3.8\n",
      "1          Orientação e informação à população trans             3.1\n",
      "2       Disponibilizar medicação e liberar cirurgias             4.8\n",
      "3                       Maior agilidade e eficiência            10.0\n",
      "4                            Melhoria do atendimento            10.3\n",
      "5               Ampliação dos profissionais de saúde            12.4\n",
      "6  Capacitação dos profissionais de saúde para at...            15.9\n",
      "7                   Respeito/serviço mais humanizado            17.6\n",
      "8  Ampliação e melhoria em infra estrutura e serv...            22.1\n"
     ]
    }
   ],
   "source": [
    "print(\"\\nDataFrame - Acompanhamento Médico para Hormonioterapia:\")\n",
    "print(df_acompanhamento_hormonioterapia)\n",
    "\n",
    "print(\"\\nDataFrame - Tentativa de Suicídio:\")\n",
    "print(df_tentativa_suicidio)\n",
    "\n",
    "print(\"\\nDataFrame - Melhoria dos Serviços de Atendimento à Saúde:\")\n",
    "print(df_melhoria_atendimento_saude)"
   ]
  },
  {
   "cell_type": "code",
   "execution_count": 31,
   "metadata": {},
   "outputs": [
    {
     "name": "stderr",
     "output_type": "stream",
     "text": [
      "C:\\Users\\ninff\\AppData\\Local\\Temp\\ipykernel_16892\\2781474352.py:7: FutureWarning: \n",
      "\n",
      "Passing `palette` without assigning `hue` is deprecated and will be removed in v0.14.0. Assign the `x` variable to `hue` and set `legend=False` for the same effect.\n",
      "\n",
      "  sns.barplot(x=identidade_genero, y=percentual, palette='muted')\n"
     ]
    },
    {
     "data": {
      "image/png": "[encoded data removed]",
      "text/plain": [
       "<Figure size 800x600 with 1 Axes>"
      ]
     },
     "metadata": {},
     "output_type": "display_data"
    }
   ],
   "source": [
    "# Dados\n",
    "identidade_genero = ['Homem Trans', 'Mulher Trans', 'Travesti']\n",
    "percentual = [35, 45, 20]\n",
    "\n",
    "# Gráfico de Barras\n",
    "plt.figure(figsize=(8,6))\n",
    "sns.barplot(x=identidade_genero, y=percentual, palette='muted')\n",
    "plt.title('Distribuição por Identidade de Gênero', fontsize=16)\n",
    "plt.xlabel('Identidade de Gênero')\n",
    "plt.ylabel('Percentual (%)')\n",
    "plt.show()"
   ]
  },
  {
   "cell_type": "code",
   "execution_count": 32,
   "metadata": {},
   "outputs": [
    {
     "data": {
      "image/png": "[encoded data removed]",
      "text/plain": [
       "<Figure size 800x800 with 1 Axes>"
      ]
     },
     "metadata": {},
     "output_type": "display_data"
    }
   ],
   "source": [
    "# Dados \n",
    "orientacao_sexual = ['Heterossexual', 'Bissexual', 'Homossexual', 'Pansexual']\n",
    "percentual_orientacao = [20, 30, 25, 25]\n",
    "\n",
    "# Gráfico de Pizza\n",
    "plt.figure(figsize=(8,8))\n",
    "plt.pie(percentual_orientacao, labels=orientacao_sexual, autopct='%1.1f%%', startangle=90, colors=sns.color_palette('pastel'))\n",
    "plt.title('Distribuição de Orientação Sexual', fontsize=16)\n",
    "plt.axis('equal')  # Garantir que o gráfico seja circular\n",
    "plt.show()"
   ]
  },
  {
   "cell_type": "code",
   "execution_count": 33,
   "metadata": {},
   "outputs": [
    {
     "data": {
      "image/png": "[encoded data removed]",
      "text/plain": [
       "<Figure size 800x600 with 1 Axes>"
      ]
     },
     "metadata": {},
     "output_type": "display_data"
    }
   ],
   "source": [
    "# Dados\n",
    "idades = [14, 16, 18, 20, 22, 24]\n",
    "percentual_abandono = [10, 15, 20, 25, 30, 35]\n",
    "\n",
    "# Gráfico de Dispersão\n",
    "plt.figure(figsize=(8,6))\n",
    "sns.scatterplot(x=idades, y=percentual_abandono, s=100, color='b')\n",
    "plt.title('Correlação: Idade de Percepção x Abandono Escolar', fontsize=16)\n",
    "plt.xlabel('Idade de Percepção da Identidade Trans')\n",
    "plt.ylabel('Percentual de Abandono Escolar (%)')\n",
    "plt.show()"
   ]
  }
 ],
 "metadata": {
  "kernelspec": {
   "display_name": "Python 3",
   "language": "python",
   "name": "python3"
  },
  "language_info": {
   "codemirror_mode": {
    "name": "ipython",
    "version": 3
   },
   "file_extension": ".py",
   "mimetype": "text/x-python",
   "name": "python",
   "nbconvert_exporter": "python",
   "pygments_lexer": "ipython3",
   "version": "3.12.7"
  }
 },
 "nbformat": 4,
 "nbformat_minor": 2
}
